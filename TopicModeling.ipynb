{
 "cells": [
  {
   "cell_type": "code",
   "execution_count": 23,
   "metadata": {},
   "outputs": [],
   "source": [
    "from sklearn.feature_extraction.text import TfidfVectorizer\n",
    "from sklearn.decomposition import NMF\n",
    "from nltk.corpus import stopwords\n",
    "from nltk.tokenize import word_tokenize\n",
    "import os\n",
    "\n",
    "# Define a function to read and preprocess the text files, returning a string\n",
    "def preprocess_text(file_path):\n",
    "    with open(file_path, 'r') as file:\n",
    "        text = file.read().lower()\n",
    "    stop_words = set(stopwords.words('english'))\n",
    "    tokens = word_tokenize(text)\n",
    "    tokens = [token for token in tokens if token not in stop_words and token.isalpha()]\n",
    "    return ' '.join(tokens)\n",
    "\n",
    "# Specify the folder name\n",
    "folder = 'FED'\n",
    "\n",
    "# For each file in the folder\n",
    "def process_file(file_name):\n",
    "    # Preprocess the text\n",
    "    file_path = os.path.join(folder, file_name)\n",
    "    document = preprocess_text(file_path)\n",
    "\n",
    "    # Create a TF-IDF Vectorizer instance\n",
    "    vectorizer = TfidfVectorizer(max_df=1.0, min_df=1, stop_words='english')\n",
    "\n",
    "    # Apply the vectorizer to the document\n",
    "    tfidf = vectorizer.fit_transform([document])\n",
    "\n",
    "    # Create an NMF instance\n",
    "    nmf = NMF(n_components=5, random_state=1)\n",
    "\n",
    "    # Apply the NMF model to your TF-IDF matrix\n",
    "    W = nmf.fit_transform(tfidf)\n",
    "    H = nmf.components_\n",
    "\n",
    "    # Print the topics\n",
    "    print(f\"File: {file_name}\")\n",
    "    for i, topic in enumerate(H):\n",
    "        print(f\"Topic {i}:\")\n",
    "        print(\" \".join([vectorizer.get_feature_names_out()[i] for i in topic.argsort()[-10:]]))\n",
    "    print(\"\\n\")\n",
    "\n",
    "# Specify the file name\n",
    "file_name = '2020F.txt'\n",
    "\n",
    "process_file(file_name)"
   ]
  },
  {
   "cell_type": "code",
   "execution_count": 31,
   "metadata": {},
   "outputs": [
    {
     "name": "stderr",
     "output_type": "stream",
     "text": [
      "C:\\Users\\15810\\AppData\\Roaming\\Python\\Python311\\site-packages\\sklearn\\decomposition\\_nmf.py:129: RuntimeWarning: invalid value encountered in sqrt\n",
      "  return np.sqrt(res * 2)\n"
     ]
    },
    {
     "name": "stdout",
     "output_type": "stream",
     "text": [
      "File: 2020F.txt\n",
      "Topic 0:\n",
      "market economic funds year growth inflation policy percent federal rate\n",
      "Topic 1:\n",
      "influences significant middle events ip output unchanged governments robust monetary\n",
      "Topic 2:\n",
      "principles continued historically disruptions coronavirus half confidence indicate faced lfprs\n",
      "Topic 3:\n",
      "intervals past changes elevated objective result declined groups banks changed\n",
      "Topic 4:\n",
      "tax house surrounding directly payments considerable periods broad measure gross\n",
      "\n",
      "\n",
      "File: 2020S.txt\n",
      "Topic 0:\n",
      "financial securities economic credit businesses treasury percent market reserve federal\n",
      "Topic 1:\n",
      "uncertainty additional years reducing actions conditions substantial legislation insurance associated\n",
      "Topic 2:\n",
      "targeted annual late firms borrowers smooth enacted fed percentage sectors\n",
      "Topic 3:\n",
      "quickly congress goods falling level available compensation payroll subsequent especially\n",
      "Topic 4:\n",
      "cost markets unemployed notable implemented temporarily dealers volatility commercial mbs\n",
      "\n",
      "\n"
     ]
    }
   ],
   "source": [
    "FED2020F = process_file('2020F.txt')\n",
    "FED2020S = process_file('2020S.txt')"
   ]
  },
  {
   "cell_type": "code",
   "execution_count": 32,
   "metadata": {},
   "outputs": [
    {
     "name": "stderr",
     "output_type": "stream",
     "text": [
      "C:\\Users\\15810\\AppData\\Roaming\\Python\\Python311\\site-packages\\sklearn\\decomposition\\_nmf.py:129: RuntimeWarning: invalid value encountered in sqrt\n",
      "  return np.sqrt(res * 2)\n"
     ]
    },
    {
     "name": "stdout",
     "output_type": "stream",
     "text": [
      "File: 2021F.txt\n",
      "Topic 0:\n",
      "pandemic monetary employment federal market economic rate percent inflation policy\n",
      "Topic 1:\n",
      "achieve estimated rules recently volatility monitoring work provided nominal increase\n",
      "Topic 2:\n",
      "told fall primarily policymakers error afe nontraditional main result discussion\n",
      "Topic 3:\n",
      "earlier residential shows consistent rate measure patterns million actions rise\n",
      "Topic 4:\n",
      "concluded longerterm burdens descriptions considerably backed mutual ramped indicatorsthe stay\n",
      "\n",
      "\n",
      "File: 2021S.txt\n",
      "Topic 0:\n",
      "labor levels prices percent year market policy rate federal inflation\n",
      "Topic 1:\n",
      "led figure line broad appropriate data temporarily reflects trade contrast\n",
      "Topic 2:\n",
      "moved wage trillion upward lower vaccinations liabilities tips product continuing\n",
      "Topic 3:\n",
      "expansion population older important countries elb return including prepandemic situation\n",
      "Topic 4:\n",
      "rising result effr spike outcome ahead funding american excludes months\n",
      "\n",
      "\n"
     ]
    }
   ],
   "source": [
    "FED2021F = process_file('2021F.txt')\n",
    "FED2021S = process_file('2021S.txt')"
   ]
  },
  {
   "cell_type": "code",
   "execution_count": 33,
   "metadata": {},
   "outputs": [
    {
     "name": "stdout",
     "output_type": "stream",
     "text": [
      "File: 2022F.txt\n",
      "Topic 0:\n",
      "rate prices market half supply labor federal percent year inflation\n",
      "Topic 1:\n",
      "ongoing amid gains led unemployment shift rrp observed share shows\n",
      "Topic 2:\n",
      "business listed years partially united declines growth earnings start motor\n",
      "Topic 3:\n",
      "infrastructure mmfs aid leisure accelerated rebounded leverage estimates january remain\n",
      "Topic 4:\n",
      "reference set activity effective canada equipment related advanced personal leverage\n",
      "\n",
      "\n",
      "File: 2022S.txt\n",
      "Topic 0:\n",
      "continued levels market prices federal year percent inflation rate policy\n",
      "Topic 1:\n",
      "associated deficit sector uncertainty markets leverage recently reduce months provided\n",
      "Topic 2:\n",
      "emerging forward level number concentrated board chinese holdings china rapidly\n",
      "Topic 3:\n",
      "weighing effects hiring principles eme meeting agency wealth developments support\n",
      "Topic 4:\n",
      "delivery issuance illustrate modestly contacts labor governments approach riksbank different\n",
      "\n",
      "\n"
     ]
    },
    {
     "name": "stderr",
     "output_type": "stream",
     "text": [
      "C:\\Users\\15810\\AppData\\Roaming\\Python\\Python311\\site-packages\\sklearn\\decomposition\\_nmf.py:129: RuntimeWarning: invalid value encountered in sqrt\n",
      "  return np.sqrt(res * 2)\n"
     ]
    }
   ],
   "source": [
    "FED2022F = process_file('2022F.txt')\n",
    "FED2022S = process_file('2022S.txt')"
   ]
  },
  {
   "cell_type": "code",
   "execution_count": 34,
   "metadata": {},
   "outputs": [],
   "source": [
    "# Specify the folder name\n",
    "folder = 'PBOC'\n",
    "\n",
    "# For each file in the folder\n",
    "def process_file(file_name):\n",
    "    # Preprocess the text\n",
    "    file_path = os.path.join(folder, file_name)\n",
    "    document = preprocess_text(file_path)\n",
    "\n",
    "    # Create a TF-IDF Vectorizer instance\n",
    "    vectorizer = TfidfVectorizer(max_df=1.0, min_df=1, stop_words='english')\n",
    "\n",
    "    # Apply the vectorizer to the document\n",
    "    tfidf = vectorizer.fit_transform([document])\n",
    "\n",
    "    # Create an NMF instance\n",
    "    nmf = NMF(n_components=5, random_state=1)\n",
    "\n",
    "    # Apply the NMF model to your TF-IDF matrix\n",
    "    W = nmf.fit_transform(tfidf)\n",
    "    H = nmf.components_\n",
    "\n",
    "    # Print the topics\n",
    "    print(f\"File: {file_name}\")\n",
    "    for i, topic in enumerate(H):\n",
    "        print(f\"Topic {i}:\")\n",
    "        print(\" \".join([vectorizer.get_feature_names_out()[i] for i in topic.argsort()[-10:]]))\n",
    "    print(\"\\n\")"
   ]
  },
  {
   "cell_type": "code",
   "execution_count": 35,
   "metadata": {},
   "outputs": [
    {
     "name": "stderr",
     "output_type": "stream",
     "text": [
      "C:\\Users\\15810\\AppData\\Roaming\\Python\\Python311\\site-packages\\sklearn\\decomposition\\_nmf.py:129: RuntimeWarning: invalid value encountered in sqrt\n",
      "  return np.sqrt(res * 2)\n"
     ]
    },
    {
     "name": "stdout",
     "output_type": "stream",
     "text": [
      "File: 2020F.txt\n",
      "Topic 0:\n",
      "rates pbc central points bank rate market financial year percent\n",
      "Topic 1:\n",
      "maintaining outstanding requirements industrial remaining total catering direct taken efficiency\n",
      "Topic 2:\n",
      "conducted featuring fully achievements expectations china鈥檚 marginal onyear progress risk\n",
      "Topic 3:\n",
      "steps repayments supplies significant guiding repo good micro remain august\n",
      "Topic 4:\n",
      "chinadevelopment yielding trendingdownward buy era fines interestrates carried increased export\n",
      "\n",
      "\n",
      "File: 2020S.txt\n",
      "Topic 0:\n",
      "central policy exchange trillion pbc rate market financial year percent\n",
      "Topic 1:\n",
      "arrangements governance equipment high brought range giving managed chains achieved\n",
      "Topic 2:\n",
      "expanded allowed line closed declined tools stabilizer payments receipts march\n",
      "Topic 3:\n",
      "registering boost showed rebound initial fairly beginning protectionism remained reform\n",
      "Topic 4:\n",
      "rebounding improving purchases created parities going properly building outstanding coordinated\n",
      "\n",
      "\n"
     ]
    }
   ],
   "source": [
    "PBOC2020F = process_file('2020F.txt')\n",
    "PBOC2020S = process_file('2020S.txt')"
   ]
  },
  {
   "cell_type": "code",
   "execution_count": 36,
   "metadata": {},
   "outputs": [
    {
     "name": "stderr",
     "output_type": "stream",
     "text": [
      "C:\\Users\\15810\\AppData\\Roaming\\Python\\Python311\\site-packages\\sklearn\\decomposition\\_nmf.py:129: RuntimeWarning: invalid value encountered in sqrt\n",
      "  return np.sqrt(res * 2)\n"
     ]
    },
    {
     "name": "stdout",
     "output_type": "stream",
     "text": [
      "File: 2021F.txt\n",
      "Topic 0:\n",
      "monetary growth pbc rates policy financial market rate year percent\n",
      "Topic 1:\n",
      "certain institutions inflation total needs equilibrium adaptive operations performance lpr\n",
      "Topic 2:\n",
      "internal integrated state amounted needs assets significantly normal relevant strengthening\n",
      "Topic 3:\n",
      "achieve jinping crude omos decreasing enhancing accelerating bonds improve different\n",
      "Topic 4:\n",
      "safe russia communications alleviation goals likely financial usd boost floating\n",
      "\n",
      "\n",
      "File: 2021S.txt\n",
      "Topic 0:\n",
      "rates institutions growth policy rate pbc market financial year percent\n",
      "Topic 1:\n",
      "month rapid period trading rapidly fifth framework price kept maintain\n",
      "Topic 2:\n",
      "reducing year began application important averaged yields significant play guided\n",
      "Topic 3:\n",
      "output federal stabilizer deepened seven normal reduction phased way core\n",
      "Topic 4:\n",
      "transparent removed appreciate paper vitality demanding upwards strengthens interconnected april\n",
      "\n",
      "\n"
     ]
    }
   ],
   "source": [
    "PBOC2021F = process_file('2021F.txt')\n",
    "PBOC2021S = process_file('2021S.txt')"
   ]
  },
  {
   "cell_type": "code",
   "execution_count": 37,
   "metadata": {},
   "outputs": [
    {
     "name": "stderr",
     "output_type": "stream",
     "text": [
      "C:\\Users\\15810\\AppData\\Roaming\\Python\\Python311\\site-packages\\sklearn\\decomposition\\_nmf.py:129: RuntimeWarning: invalid value encountered in sqrt\n",
      "  return np.sqrt(res * 2)\n"
     ]
    },
    {
     "name": "stdout",
     "output_type": "stream",
     "text": [
      "File: 2022F.txt\n",
      "Topic 0:\n",
      "rates trillion growth institutions market rate pbc financial year percent\n",
      "Topic 1:\n",
      "msmes area kept inflation insurance imports appreciated overseas point structure\n",
      "Topic 2:\n",
      "preparations regulation relief practice expected rapid affiliated help actually posted\n",
      "Topic 3:\n",
      "allocations changes supports mix weakened orderly cpi favorable increment directions\n",
      "Topic 4:\n",
      "aggregates access featuring upgrading msmes mlf care bilateral second focusing\n",
      "\n",
      "\n",
      "File: 2022S.txt\n",
      "Topic 0:\n",
      "loans policy institutions exchange trillion market rate financial year percent\n",
      "Topic 1:\n",
      "representing revitalization role investments savings funds conducting shocks locally fully\n",
      "Topic 2:\n",
      "elderly million food operating real businesses early factors structural shanghai\n",
      "Topic 3:\n",
      "qualified enterprises focused room areas amid agriculture efficiency progress stimulus\n",
      "Topic 4:\n",
      "price advancing committee previous point payments shenzhen aggregates maturity capital\n",
      "\n",
      "\n"
     ]
    }
   ],
   "source": [
    "PBOC2022F = process_file('2022F.txt')\n",
    "PBOC2022S = process_file('2022S.txt')"
   ]
  }
 ],
 "metadata": {
  "kernelspec": {
   "display_name": "myenv",
   "language": "python",
   "name": "python3"
  },
  "language_info": {
   "codemirror_mode": {
    "name": "ipython",
    "version": 3
   },
   "file_extension": ".py",
   "mimetype": "text/x-python",
   "name": "python",
   "nbconvert_exporter": "python",
   "pygments_lexer": "ipython3",
   "version": "3.11.4"
  }
 },
 "nbformat": 4,
 "nbformat_minor": 2
}
